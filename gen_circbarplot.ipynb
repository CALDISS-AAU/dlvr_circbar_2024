{
 "cells": [
  {
   "cell_type": "markdown",
   "metadata": {},
   "source": [
    "# Cirkulære barplot-funktion\n",
    "\n",
    "Følgende python notebook indeholder funktion til at lave cirkulære barplots af enkelte observatinoer i datasæt over forskeraktiviteter. \n",
    "\n",
    "En notebook er opdelt i celler. Celler kan enten være tekstceller (som denne) eller kodeceller (med python kode). Kodeceller kan køres enkeltvis.\n",
    "\n",
    "For at danne et plot, skal kodecellerne i denne notebook køres i rækkefølge. Den sidste celle indeholder koden, der genererer et plot af en valgt observation. Denne kan derfor køres så mange gange, som man har brug for. \n",
    "\n",
    "Flere steder i notebooken er der kodeceller, som kan tilpasses, hvis man vil lave ændringer i plottet (fx søjlelabels og farver). \n",
    "\n",
    "Notebooken indeholder følgende:\n",
    "1. Installation af nødvendige Python pakker\n",
    "2. Indlæsning af Python pakker\n",
    "3. Indlæsning af data\n",
    "4. Indstilling af søjlelabels og søjlefarver\n",
    "5. Kode til at lave funktionen, der gør det muligt, at lave cirkulært barplot\n",
    "6. Kørsel af funktion til at lave cirkulært barplot af én observation\n",
    "\n",
    "Spørgsmål til notebooken skal rettes til CALDISS (caldiss@adm.aau.dk).\n",
    "\n",
    "### Brug af notebooken\n",
    "\n",
    "Det antages her, at notebooken er åbnet i JupyterLab. For at køre kodecellerne, placerer man sin markør i cellen og trykker derefter på play-knappen i bjælken over notebooken. Alternativt kan man trykke shift+enter (windows) eller cmd+enter (mac).\n",
    "\n",
    "Feltet med de kantede parenteser (`[ ]`) til venstre for en celle angiver, om cellen er kørt. Er feltet tomt, er cellen ikke kørt endnu. Indeholder feltet en stjerne (`[*]`), kører koden stadig. Indeholder feltet et tal (`[1]`), er cellen kørt, og man kan fortsætte til næste celle. Tallet angiver kørselsrækkefølgen.\n",
    "\n",
    "Så længe notebooken er åben, så \"gemmes\" de ting, som er kørt i notebooken. Lukkes notebooken, så skal alle celler køres igen for at kunne bruge plotting-funktionen (med undtagelse af 1. Installation)."
   ]
  },
  {
   "cell_type": "markdown",
   "metadata": {},
   "source": [
    "## 1. Installation af nødvendige Python pakker\n",
    "\n",
    "Cellen herunder installerer de nødvendige Python pakker for at kunne køre kodecellerne. Denne behøves kun køres første gang, at man bruger notebooken."
   ]
  },
  {
   "cell_type": "code",
   "execution_count": null,
   "metadata": {},
   "outputs": [],
   "source": [
    "!pip install pandas matplotlib openpyxl"
   ]
  },
  {
   "cell_type": "markdown",
   "metadata": {},
   "source": [
    "## 2. Indlæsning af Python pakker\n",
    "\n",
    "Nedenstående indlæser de nødvendige python for at kunne køre kodecellerne. Skal køres hver gang, at man åbner notebooken på ny."
   ]
  },
  {
   "cell_type": "code",
   "execution_count": null,
   "metadata": {},
   "outputs": [],
   "source": [
    "import os\n",
    "from os.path import join\n",
    "import json\n",
    "import pandas as pd\n",
    "import openpyxl\n",
    "import random\n",
    "import re\n",
    "import numpy as np\n",
    "import matplotlib.pyplot as plt\n",
    "\n",
    "from matplotlib.lines import Line2D\n",
    "from matplotlib import font_manager"
   ]
  },
  {
   "cell_type": "markdown",
   "metadata": {},
   "source": [
    "## 3. Indlæsning af data\n",
    "\n",
    "Nedenståedne kodecelle indlæser datasættet, som plots skal genereres ud fra. Data skal angives som en filsti i python variablen `data_path`. \n",
    "\n",
    "Det er lettest, hvis notebooken ligger i samme mappe som datasættet. På den måde kan man nøjes med bare at angive navnet på datasættet (husk at filendelsen skal med .xlsx)"
   ]
  },
  {
   "cell_type": "code",
   "execution_count": null,
   "metadata": {},
   "outputs": [],
   "source": [
    "data_path = \"./data/simdata_sunburst.xlsx\" # <-- Indsæt korrekt sti til datasættet"
   ]
  },
  {
   "cell_type": "markdown",
   "metadata": {},
   "source": [
    "Når filstien til data er angivet i ovenstående celle, skal de nedenstående celler bare køre, som de er."
   ]
  },
  {
   "cell_type": "code",
   "execution_count": null,
   "metadata": {},
   "outputs": [],
   "source": [
    "# Indlæs data fra stien\n",
    "df = pd.read_excel(data_path)\n",
    "\n",
    "cols_use = [\n",
    "    'ID - personer',\n",
    "    'PART_ACAD_norm',\n",
    "    'PART_NON_norm',\n",
    "    'PART_INT_norm',\n",
    "    'PART_ORG_norm',\n",
    "    'PART_TEACH_norm',\n",
    "    'PART_QUAL_norm',\n",
    "    'PART_MEDIA_norm',\n",
    "    'PROD_MEDIA_norm',\n",
    "    'PROD_AEST_norm',\n",
    "    'PROD_ACAD_norm',\n",
    "    'PROD_POLI_norm',\n",
    "    'PROD_COMM_norm',\n",
    "    'INFLOW_norm'\n",
    "]\n",
    "\n",
    "# Omdanner datasættet til lang format\n",
    "df = df[cols_use]\n",
    "df.loc[:, cols_use[1:]] = df.loc[:, cols_use[1:]] * 100\n",
    "df_melted = pd.melt(df, id_vars=['ID - personer'], var_name='Level', value_name='Values') # konverterer til langt format, ændrer variabler to \"Level\" og gemmer værdier fra kolonnerne i \"Values\" kolonnen"
   ]
  },
  {
   "cell_type": "markdown",
   "metadata": {},
   "source": [
    "## 4. Indstilling af søjlelabels og søjlefarver\n",
    "\n",
    "Nedenstående celler bruges til at ændre hhv. søjelabels og søjlefarver. Som standard, beholdes de oprindelige kolonnenavne som søjelabels. Søjler er farvelagt blå, rød og grøn for kolonner, der starter med hhv. \"PART_\", \"PROD_\" og \"INFLOW_\".\n",
    "\n",
    "### Indstilling af søjlelabels\n",
    "\n",
    "Ret i koden i nedenstående celle for at ændre søjlelabels. De ønskede labels sættes til højre for `:`. Husk at angive labels i anførselstegn (`\"\"`). Kommaerne skal blive i koden. Hvis label for kolonnen skal udelades for grafen, sæt tom tekst felt \"\" ind."
   ]
  },
  {
   "cell_type": "code",
   "execution_count": null,
   "metadata": {},
   "outputs": [],
   "source": [
    "col_labels = {\n",
    "    \"PART_ACAD_norm\": \"PART_ACAD_norm\", # <-- skriv ønsket kolonnelabel til højre for kolon (:). Anførselstegn og komma skal ikke fjernes. \n",
    "    \"PART_NON_norm\": \"PART_NON_norm\",\n",
    "    \"PART_INT_norm \": \"PART_INT_norm \",\n",
    "    \"PART_ORG_norm\": \"PART_ORG_norm\",\n",
    "    \"PART_TEACH_norm\": \"PART_TEACH_norm\",\n",
    "    \"PART_QUAL_norm\": \"PART_QUAL_norm\",\n",
    "    \"PART_MEDIA_norm \": \"PART_MEDIA_norm \",\n",
    "    \"PROD_MEDIA_norm\": \"PROD_MEDIA_norm\",\n",
    "    \"PROD_AEST_norm\": \"PROD_AEST_norm\",\n",
    "    \"PROD_ACAD_norm\": \"PROD_ACAD_norm\",\n",
    "    \"PROD_POLI_norm \": \"PROD_POLI_norm \",\n",
    "    \"PROD_COMM_norm\": \"PROD_COMM_norm\",\n",
    "    \"INFLOW_norm\": \"INFLOW_norm\",\n",
    "}"
   ]
  },
  {
   "cell_type": "markdown",
   "metadata": {},
   "source": [
    "### Indstilling af søjefarver\n",
    "\n",
    "Ret i koden i nedenstående celle for at ændre søjlefarver. De ønskede farver angives som hex-værdier til højre for `:`. Husk at angive hex-værdi i anførselstegn (`\"\"`). Kommaerne skal blive i koden.\n",
    "\n",
    "Som standard, bruges blå til PART_-kolonner, rød til PROD_-kolonner og grøn til INFLOW-kolonner."
   ]
  },
  {
   "cell_type": "code",
   "execution_count": null,
   "metadata": {},
   "outputs": [],
   "source": [
    "chart_colors = {\n",
    "    \"PART_\": \"#1f77b4\", # <-- Skriv ønsket farve. Skal angives som hex-værdi. Anførselstegn og komma skal ikke fjernes. # Blå\n",
    "    \"PROD_\": \"#d62728\", # Rød\n",
    "    \"INFLOW\": \"#2ca02c\" # Grøm\n",
    "    } "
   ]
  },
  {
   "cell_type": "markdown",
   "metadata": {},
   "source": [
    "## 5. Kode til at lave funktionen, der gør det muligt, at lave cirkulært barplot\n",
    "\n",
    "Den lange kodecelle herunder laver selve funktionen. *Denne skal der ikke foretages ændringer i.*"
   ]
  },
  {
   "cell_type": "code",
   "execution_count": null,
   "metadata": {},
   "outputs": [],
   "source": [
    "def harry_plotter(unique_id, fileout = None, include_values = True, order = None, df_melted = df_melted, chart_colors = chart_colors, col_labels = col_labels):\n",
    "\n",
    "    df_use = df_melted.copy()\n",
    "\n",
    "    colour_map = {}\n",
    "\n",
    "    for col in df_use['Level'].unique():\n",
    "\n",
    "        if str(col).startswith('PART_'):\n",
    "            color = chart_colors.get('PART_')\n",
    "        elif str(col).startswith('PROD_'):\n",
    "            color = chart_colors.get('PROD_')\n",
    "        elif str(col).startswith('INFLOW'):\n",
    "            color = chart_colors.get('INFLOW')\n",
    "        else:\n",
    "            continue\n",
    "        \n",
    "        colour_map[str(col)] = color\n",
    "\n",
    "    df_use['colors'] = df_use['Level'].map(colour_map) # Forbinder farver til datasættet\n",
    "\n",
    "\n",
    "    # filtrer datasættet\n",
    "    filtered_df = df_use[df_use['ID - personer'] == unique_id]\n",
    "\n",
    "    # Bruger bestemt definition af strålernes rækkefølge\n",
    "    # Således strålerne tegnes ud fra datasætetets orden. Listen defineres i nedenstående celle.\n",
    "    if order is not None:\n",
    "        new_order = order[3:] + order[:3]\n",
    "        order_use = [new_order[0]] + list(reversed(new_order[1:]))\n",
    "        filtered_df['Level'] = pd.Categorical(filtered_df['Level'], order_use)\n",
    "        filtered_df = filtered_df.sort_values('Level')\n",
    "\n",
    "    # Plot størrelse og initiering af plot\n",
    "    plt.figure(figsize=(20,10)) # <-- figure størrelse\n",
    "    ax = plt.subplot(111, polar=True) # <-- Definition af figur type\n",
    "    ax.grid(True, linestyle='--', color='gray', alpha=0.6) # Definer grænserne for plottet. Værdier kan ændres. linestyle = type of line for outer circle. color = colour of line. alpha = transparancy \n",
    "    \n",
    "    #Laoyt for akserne\n",
    "    plt.xticks([]) # Fjerner x-akse labels\n",
    "\n",
    "    plt.yticks([100, 200], labels =['100%', '200%']) # Definerer labels for y-aksen\n",
    "    \n",
    "    #Fjerner de ydre ringe cirkleakserne, som giver mere plads til labels og et renerer udseende\n",
    "    ax.spines[\"polar\"].set_color(\"none\") \n",
    "    ax.spines[\"start\"].set_color(\"none\")\n",
    "    \n",
    "\n",
    "    # Constants = parametrer der kontrollerer plot layout:\n",
    "    upperLimit = 350\n",
    "    lowerLimit = 0\n",
    "    labelPadding = 6\n",
    "\n",
    "    # Beregn max og min for datasættet\n",
    "    max = filtered_df['Values'].max()\n",
    "\n",
    "    # Beregning af højde for plottet og input værdier\n",
    "    slope = (max - lowerLimit) / max\n",
    "    heights = slope * filtered_df.Values + lowerLimit\n",
    "\n",
    "    # Beregn strålernes bredde. Total = 2*Pi = 360°\n",
    "    width = 2*np.pi / 28 #<-- bestemmer bredden af strålerne. Tallet kan ændres\n",
    "\n",
    "    # Beregn vinkler hvor strålerne er centreret omkring\n",
    "    indexes = list(range(1, len(filtered_df.index)+1)) # bestem index af dataframe som bruges til vinkel beregning\n",
    "    angles = np.linspace(0.05, 2 * np.pi - 0.05, len(filtered_df), endpoint=False) # Definer vinkle og position af strålerne\n",
    "\n",
    "    # Tegn stråler\n",
    "    # Definer strålernes størrelse, farve og andre layout ting fra tidligere objekter i funktionen\n",
    "    bars = ax.bar(\n",
    "        x=angles, \n",
    "        height=heights, \n",
    "        width=width, \n",
    "        bottom=lowerLimit,\n",
    "        linewidth=1, \n",
    "        edgecolor=\"white\",\n",
    "        color=filtered_df['colors']\n",
    "    )\n",
    "\n",
    "    # Nanvgiv labels\n",
    "    filtered_df['Level'] = filtered_df['Level'].replace(col_labels)\n",
    "\n",
    "    # Funktion til at tilføje labels\n",
    "    for bar, angle, height, label, value in zip(bars, angles, heights, filtered_df['Level'], filtered_df[\"Values\"]):\n",
    "\n",
    "        # Labels rotereres. Rotationen defineres i grader\n",
    "        rotation = np.rad2deg(angle)\n",
    "\n",
    "        # Vender labels for bedre læsbarhed\n",
    "        alignment = \"\"\n",
    "        if angle >= np.pi/2 and angle < 3*np.pi/2:\n",
    "            alignment = \"right\"\n",
    "            rotation = rotation + 180\n",
    "        else: \n",
    "            alignment = \"left\"\n",
    "\n",
    "        # Definer hvad bar labels indeholder\n",
    "        if include_values:\n",
    "            bar_label = f'{label}: {int(round(value, 0))}%'\n",
    "        else:\n",
    "            bar_label = f'{label}'\n",
    "\n",
    "        # Tilføjer labels og deres udseende\n",
    "        ax.text(\n",
    "            x=angle, \n",
    "            y=lowerLimit + bar.get_height() + labelPadding, \n",
    "            s=bar_label, # string der definerer label output\n",
    "            size = 8.5, #Tekst størrelse. Kan ændres hvis tekst skal være større\n",
    "            ha=alignment, \n",
    "            va='center', # placering af labels\n",
    "            rotation=rotation, # Rotation af strålerne\n",
    "            rotation_mode=\"anchor\") # Definerer hvor label skal hænge på strålerne\n",
    "\n",
    "    if any([fileout != \"\", fileout is None]):\n",
    "        if not fileout.endswith(\".png\"):\n",
    "            fileout = fileout + \".png\"\n",
    "\n",
    "        plt.savefig(fileout, bbox_inches = 'tight') # Gemmer plottet i lokal mappe"
   ]
  },
  {
   "cell_type": "markdown",
   "metadata": {},
   "source": [
    "## 6. Kørsel af funktion til at lave cirkulært barplot af én observation\n",
    "\n",
    "Til sidst skal der sættes de overordnede indstillinger for plottet. Dette gøres ved at tilrette værdierne i cellen herunder. Der skal altid kun rettes i værdierne til venstre for =. \n",
    "\n",
    "- `unique_id`: Insæt den korrekte værdi for id. Hvis ID er tekst, så sæt \"\" rundt om.\n",
    "- `fileout`: Indsæt navn på plot, som det skal gemmes som. Gemmes ikke, hvis det står tomt. Tom værdi angives ved at sætte \"\".\n",
    "- `include_values`: Angiv hvorvidt værdier skal med på søjlerne. True for \"Ja\", False for Nej (bemærk at hhv. True/False skal skrives med stort forbogstav).\n",
    "- `order`: Angiv rækkefølgen, som søjler skal stå i (start med kl 12). Rækkefølgen skal angives som en liste af de oprindelige kolonnenavne. Anførselstegn, kommaer og andre specialtegn skal derfor blive i koden. For at undgå slåfejl, kan kolonnenavne evt. flyttes rundt ved at klippe og sætte ind.\n"
   ]
  },
  {
   "cell_type": "code",
   "execution_count": null,
   "metadata": {},
   "outputs": [],
   "source": [
    "unique_id = 6 # <-- Insæt den korrekte værdi for id. \"\" <- som string værdi eller tal hvis der er tale om et nummeret id\n",
    "\n",
    "fileout = \"\" # <-- indsæt navn på plot, som det skal gemmes som (gemmes ikke, hvis det står tomt)\n",
    "\n",
    "include_values = True # <-- angiv hvorvidt værdier skal med på søjlerne. True for \"Ja\", False for Nej.\n",
    "\n",
    "# Rækkefølge for input til plottet angivet i en liste.\n",
    "order = [\n",
    "    \"INFLOW_norm\",\n",
    "    \"PART_ACAD_norm\", \n",
    "    \"PART_NON_norm\", \n",
    "    \"PART_INT_norm\",\n",
    "    \"PART_ORG_norm\", \n",
    "    \"PART_TEACH_norm\", \n",
    "    \"PART_QUAL_norm\",\n",
    "    \"PART_MEDIA_norm\", \n",
    "    \"PROD_COMM_norm\",\n",
    "    \"PROD_MEDIA_norm\", \n",
    "    \"PROD_AEST_norm\",\n",
    "    \"PROD_ACAD_norm\", \n",
    "    \"PROD_POLI_norm\"\n",
    "    ]"
   ]
  },
  {
   "cell_type": "markdown",
   "metadata": {},
   "source": [
    "Når ovenstående er indstillet, genereres, printes og gemmes (hvis dette er valgt) plottet ved at køre nedenstående celle.\n",
    "\n",
    "Der gives en advarsel med rød skrift, men denne kan ses bort fra."
   ]
  },
  {
   "cell_type": "code",
   "execution_count": null,
   "metadata": {},
   "outputs": [],
   "source": [
    "# benytter funktionen og indsættelse af valgte værdier til plottet\n",
    "circ_barplot = harry_plotter(unique_id, fileout=fileout, include_values=include_values, order = order)\n",
    "\n",
    "print(circ_barplot) #printer plottet"
   ]
  }
 ],
 "metadata": {
  "kernelspec": {
   "display_name": "Python 3 ",
   "language": "python",
   "name": "python3"
  },
  "language_info": {
   "codemirror_mode": {
    "name": "ipython",
    "version": 3
   },
   "file_extension": ".py",
   "mimetype": "text/x-python",
   "name": "python",
   "nbconvert_exporter": "python",
   "pygments_lexer": "ipython3",
   "version": "3.10.14"
  }
 },
 "nbformat": 4,
 "nbformat_minor": 4
}
